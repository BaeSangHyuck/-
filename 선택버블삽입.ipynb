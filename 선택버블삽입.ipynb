{
  "nbformat": 4,
  "nbformat_minor": 0,
  "metadata": {
    "colab": {
      "name": "선택버블삽입",
      "provenance": [],
      "authorship_tag": "ABX9TyOeW8u/lI3fPkCN4uuqLiLz",
      "include_colab_link": true
    },
    "kernelspec": {
      "name": "python3",
      "display_name": "Python 3"
    },
    "language_info": {
      "name": "python"
    }
  },
  "cells": [
    {
      "cell_type": "markdown",
      "metadata": {
        "id": "view-in-github",
        "colab_type": "text"
      },
      "source": [
        "<a href=\"https://colab.research.google.com/github/BaeSangHyuck/select/blob/main/%EC%84%A0%ED%83%9D%EB%B2%84%EB%B8%94%EC%82%BD%EC%9E%85.ipynb\" target=\"_parent\"><img src=\"https://colab.research.google.com/assets/colab-badge.svg\" alt=\"Open In Colab\"/></a>"
      ]
    },
    {
      "cell_type": "code",
      "metadata": {
        "id": "wkTjEJ0MTwW7"
      },
      "source": [
        "# 큐 queue와 스택 stack\n",
        "\n",
        "#큐 queue 줄서기 먼저온 사람이 먼저 백신 주사를 맞는다.  FIFO\n",
        "# 1 2 3 4  in enqueue        1 2 3 4   out dequeue\n",
        "\n",
        "qu = [1,2,3,4]\n"
      ],
      "execution_count": 1,
      "outputs": []
    },
    {
      "cell_type": "code",
      "metadata": {
        "colab": {
          "base_uri": "https://localhost:8080/"
        },
        "id": "eRxEp08TWpFx",
        "outputId": "e58dec30-76cd-4ddc-e3e1-2944c36290ea"
      },
      "source": [
        "qu.pop(0)\n",
        "qu"
      ],
      "execution_count": 2,
      "outputs": [
        {
          "output_type": "execute_result",
          "data": {
            "text/plain": [
              "[2, 3, 4]"
            ]
          },
          "metadata": {},
          "execution_count": 2
        }
      ]
    },
    {
      "cell_type": "code",
      "metadata": {
        "id": "tGxebDaVWpZy"
      },
      "source": [
        "# 스택 stack 접시쌓기 나중에 올려진 접시가 먼저 나간다. LIFO\n",
        "# 1 2 3 4  in push             4 3 2 1  out pop\n",
        "\n",
        "st = [1,2,3,4]"
      ],
      "execution_count": 3,
      "outputs": []
    },
    {
      "cell_type": "code",
      "metadata": {
        "colab": {
          "base_uri": "https://localhost:8080/"
        },
        "id": "E1MuZ0sTWqY0",
        "outputId": "a94ad4da-f078-416b-840b-3fc232886f45"
      },
      "source": [
        "st.pop()\n",
        "st"
      ],
      "execution_count": 4,
      "outputs": [
        {
          "output_type": "execute_result",
          "data": {
            "text/plain": [
              "[1, 2, 3]"
            ]
          },
          "metadata": {},
          "execution_count": 4
        }
      ]
    },
    {
      "cell_type": "code",
      "metadata": {
        "colab": {
          "base_uri": "https://localhost:8080/"
        },
        "id": "f719ER2PWrVe",
        "outputId": "82997224-f707-40be-9824-71661d9a1219"
      },
      "source": [
        "# 회문찾기 wow madam\n",
        "\n",
        "def palin(s):\n",
        "  qu=[]\n",
        "  st=[]\n",
        "\n",
        "  for x in s:\n",
        "    qu.append(x.lower())\n",
        "    st.append(x.lower())\n",
        "\n",
        "  while qu:\n",
        "    if qu.pop(0) != st.pop():\n",
        "      return False\n",
        "  return True\n",
        "\n",
        "palin(\"hello\")\n"
      ],
      "execution_count": 5,
      "outputs": [
        {
          "output_type": "execute_result",
          "data": {
            "text/plain": [
              "False"
            ]
          },
          "metadata": {},
          "execution_count": 5
        }
      ]
    },
    {
      "cell_type": "code",
      "metadata": {
        "id": "PB4FmBOyWsPl"
      },
      "source": [
        "# 선택 정렬 (단순 선택, 선택법)\n",
        "# 데이터를 정렬하는 알고리즘\n",
        "# 가장 작은 데이터를 선택하여 맨 앞부터 순서대로 정렬한다. \n",
        "\n",
        "3 1 4 2 5\n",
        "\n",
        "1 2 3 4 5"
      ],
      "execution_count": 7,
      "outputs": []
    },
    {
      "cell_type": "code",
      "metadata": {
        "colab": {
          "base_uri": "https://localhost:8080/"
        },
        "id": "nuYFEuAPWtH9",
        "outputId": "a4c2d236-e0e2-49e7-c0bf-7c07857ee024"
      },
      "source": [
        "# 가장 큰 데이터를 선택하여 맨 뒤부터 순서대로 정렬한다. \n",
        "\n",
        "def selectionSort(arr):\n",
        "  for i in range(len(arr),0,-1):\n",
        "    max = 0\n",
        "    for j in range(0, i):       # 나머지 값들 중 가장 큰 데이터를 선택하여\n",
        "      if arr[j] > arr[max]:\n",
        "        max = j\n",
        "      arr[max], arr[j] = arr[j], arr[max]  #제일 큰값과 자리 교환\n",
        "  return arr\n",
        "\n",
        "\n",
        "\n",
        "\n",
        "arr = [3, 1, 4, 2, 5]\n",
        "print(selectionSort(arr))"
      ],
      "execution_count": 13,
      "outputs": [
        {
          "output_type": "stream",
          "name": "stdout",
          "text": [
            "[1, 2, 3, 4, 5]\n"
          ]
        }
      ]
    },
    {
      "cell_type": "code",
      "metadata": {
        "id": "VJFEXAtNaC46"
      },
      "source": [
        "# 버블정렬 = 단순교환법"
      ],
      "execution_count": 14,
      "outputs": []
    },
    {
      "cell_type": "code",
      "metadata": {
        "colab": {
          "base_uri": "https://localhost:8080/"
        },
        "id": "RSEQ-X8vikis",
        "outputId": "5f8ee5b2-e4ba-42b1-a3f8-ada75ec75747"
      },
      "source": [
        "import random\n",
        "\n",
        "def bubbleSort(arr):\n",
        "  for i in range(len(arr)-1,0,-1):\n",
        "    for j in range(0, i):\n",
        "      if arr[j] > arr[j+1]:\n",
        "        arr[j],arr[j+1] = arr[j+1],arr[j]   # 자리 바꿈\n",
        "        print(arr)\n",
        "  return arr \n",
        "\n",
        "\n",
        "\n",
        "arr = random.sample(range(1,50),7)\n",
        "arr = (arr)\n",
        "print(bubbleSort(arr))"
      ],
      "execution_count": 24,
      "outputs": [
        {
          "output_type": "stream",
          "name": "stdout",
          "text": [
            "[45, 46, 17, 49, 27, 1, 34]\n",
            "[45, 17, 46, 49, 27, 1, 34]\n",
            "[45, 17, 46, 27, 49, 1, 34]\n",
            "[45, 17, 46, 27, 1, 49, 34]\n",
            "[45, 17, 46, 27, 1, 34, 49]\n",
            "[17, 45, 46, 27, 1, 34, 49]\n",
            "[17, 45, 27, 46, 1, 34, 49]\n",
            "[17, 45, 27, 1, 46, 34, 49]\n",
            "[17, 45, 27, 1, 34, 46, 49]\n",
            "[17, 27, 45, 1, 34, 46, 49]\n",
            "[17, 27, 1, 45, 34, 46, 49]\n",
            "[17, 27, 1, 34, 45, 46, 49]\n",
            "[17, 1, 27, 34, 45, 46, 49]\n",
            "[1, 17, 27, 34, 45, 46, 49]\n",
            "[1, 17, 27, 34, 45, 46, 49]\n"
          ]
        }
      ]
    },
    {
      "cell_type": "code",
      "metadata": {
        "colab": {
          "base_uri": "https://localhost:8080/"
        },
        "id": "C25dnBk3iydz",
        "outputId": "2b75a2ac-53f2-4e64-c950-89494c5a130b"
      },
      "source": [
        "import random\n",
        "\n",
        "def bubbleSort(arr):\n",
        "  for i in range(len(arr)-1,0,-1):\n",
        "    for j in range(0, i):\n",
        "      if arr[j] > arr[j+1]:\n",
        "        arr[j],arr[j+1] = arr[j+1],arr[j]   # 자리 바꿈\n",
        "  return arr \n",
        "\n",
        "\n",
        "\n",
        "arr = random.sample(range(1,50),7)\n",
        "print(arr)\n",
        "print(bubbleSort(arr))"
      ],
      "execution_count": 25,
      "outputs": [
        {
          "output_type": "stream",
          "name": "stdout",
          "text": [
            "[21, 40, 46, 43, 26, 20, 5]\n",
            "[5, 20, 21, 26, 40, 43, 46]\n"
          ]
        }
      ]
    },
    {
      "cell_type": "code",
      "metadata": {
        "colab": {
          "base_uri": "https://localhost:8080/"
        },
        "id": "t0BAmtKPkAID",
        "outputId": "4ac90347-dd28-4740-aab3-4b2099c04cf2"
      },
      "source": [
        "# 삽입 정렬 - 기본 삽입법 단순 삽입법\n",
        "\n",
        "def insertionSort(arr):\n",
        "  for i in range(1,len(arr)): \n",
        "    while i > 0 and arr[i] < arr[i-1]:\n",
        "      arr[i] , arr[i-1] = arr[i-1], arr[i]\n",
        "      i -= 1\n",
        "  return arr\n",
        "\n",
        "arr = [3, 1, 4, 2, 5]\n",
        "print(insertionSort(arr))"
      ],
      "execution_count": 1,
      "outputs": [
        {
          "output_type": "stream",
          "name": "stdout",
          "text": [
            "[1, 2, 3, 4, 5]\n"
          ]
        }
      ]
    },
    {
      "cell_type": "code",
      "metadata": {
        "colab": {
          "base_uri": "https://localhost:8080/"
        },
        "id": "-3aYv6S5FyLM",
        "outputId": "a3b6eab4-2dda-4cff-be88-bddd9d567e3d"
      },
      "source": [
        "#퀵 정렬 - 기준값을 설정하여 그 값보다 작은 그룹과 큰 그룹으로 계속 나눈다. \n",
        "def quickSort(arr):\n",
        "  \n",
        "\n",
        "  return arr\n",
        "\n",
        "arr = [3, 1, 4, 2, 5, 6 ,9 ,8 ,10, 7]\n",
        "print(quickSort(arr))"
      ],
      "execution_count": 2,
      "outputs": [
        {
          "output_type": "stream",
          "name": "stdout",
          "text": [
            "[3, 1, 4, 2, 5, 6, 9, 8, 10, 7]\n"
          ]
        }
      ]
    },
    {
      "cell_type": "code",
      "metadata": {
        "id": "aR_hLNBMFzH5"
      },
      "source": [
        ""
      ],
      "execution_count": null,
      "outputs": []
    }
  ]
}